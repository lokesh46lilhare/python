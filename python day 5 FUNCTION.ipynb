{
  "metadata": {
    "kernelspec": {
      "name": "python",
      "display_name": "Python (Pyodide)",
      "language": "python"
    },
    "language_info": {
      "codemirror_mode": {
        "name": "python",
        "version": 3
      },
      "file_extension": ".py",
      "mimetype": "text/x-python",
      "name": "python",
      "nbconvert_exporter": "python",
      "pygments_lexer": "ipython3",
      "version": "3.8"
    }
  },
  "nbformat_minor": 4,
  "nbformat": 4,
  "cells": [
    {
      "cell_type": "code",
      "source": "def test():\n     print(\"this is my very very first function\")",
      "metadata": {
        "trusted": true
      },
      "outputs": [],
      "execution_count": 2
    },
    {
      "cell_type": "code",
      "source": "test()",
      "metadata": {
        "trusted": true
      },
      "outputs": [
        {
          "name": "stdout",
          "text": "this is my very very first function\n",
          "output_type": "stream"
        }
      ],
      "execution_count": 4
    },
    {
      "cell_type": "code",
      "source": "test()+ \"lokesh\"",
      "metadata": {
        "trusted": true
      },
      "outputs": [
        {
          "name": "stdout",
          "text": "this is my very very first function\n",
          "output_type": "stream"
        },
        {
          "ename": "<class 'TypeError'>",
          "evalue": "unsupported operand type(s) for +: 'NoneType' and 'str'",
          "traceback": [
            "\u001b[0;31m---------------------------------------------------------------------------\u001b[0m",
            "\u001b[0;31mTypeError\u001b[0m                                 Traceback (most recent call last)",
            "Cell \u001b[0;32mIn[5], line 1\u001b[0m\n\u001b[0;32m----> 1\u001b[0m \u001b[43mtest\u001b[49m\u001b[43m(\u001b[49m\u001b[43m)\u001b[49m\u001b[38;5;241;43m+\u001b[39;49m\u001b[43m \u001b[49m\u001b[38;5;124;43m\"\u001b[39;49m\u001b[38;5;124;43mlokesh\u001b[39;49m\u001b[38;5;124;43m\"\u001b[39;49m\n",
            "\u001b[0;31mTypeError\u001b[0m: unsupported operand type(s) for +: 'NoneType' and 'str'"
          ],
          "output_type": "error"
        }
      ],
      "execution_count": 5
    },
    {
      "cell_type": "code",
      "source": "def test2():\n     return\"this is my very first return\"",
      "metadata": {
        "trusted": true
      },
      "outputs": [],
      "execution_count": 7
    },
    {
      "cell_type": "code",
      "source": "test2()",
      "metadata": {
        "trusted": true
      },
      "outputs": [
        {
          "execution_count": 8,
          "output_type": "execute_result",
          "data": {
            "text/plain": "'this is my very first return'"
          },
          "metadata": {}
        }
      ],
      "execution_count": 8
    },
    {
      "cell_type": "code",
      "source": "test2() +  \"lokesh\"",
      "metadata": {
        "trusted": true
      },
      "outputs": [
        {
          "execution_count": 12,
          "output_type": "execute_result",
          "data": {
            "text/plain": "'this is my very first returnlokesh'"
          },
          "metadata": {}
        }
      ],
      "execution_count": 12
    },
    {
      "cell_type": "code",
      "source": "def test3() :\n     return \"LK\",23,354.56,[1,2,3,6]",
      "metadata": {
        "trusted": true
      },
      "outputs": [],
      "execution_count": 19
    },
    {
      "cell_type": "code",
      "source": "test3()",
      "metadata": {
        "trusted": true
      },
      "outputs": [
        {
          "execution_count": 20,
          "output_type": "execute_result",
          "data": {
            "text/plain": "('LK', 23, 354.56, [1, 2, 3, 6])"
          },
          "metadata": {}
        }
      ],
      "execution_count": 20
    },
    {
      "cell_type": "code",
      "source": "a,b,c,d = test3()",
      "metadata": {
        "trusted": true
      },
      "outputs": [],
      "execution_count": 24
    },
    {
      "cell_type": "code",
      "source": "test3()",
      "metadata": {
        "trusted": true
      },
      "outputs": [
        {
          "execution_count": 21,
          "output_type": "execute_result",
          "data": {
            "text/plain": "('LK', 23, 354.56, [1, 2, 3, 6])"
          },
          "metadata": {}
        }
      ],
      "execution_count": 21
    },
    {
      "cell_type": "code",
      "source": " a",
      "metadata": {
        "trusted": true
      },
      "outputs": [
        {
          "execution_count": 25,
          "output_type": "execute_result",
          "data": {
            "text/plain": "'LK'"
          },
          "metadata": {}
        }
      ],
      "execution_count": 25
    },
    {
      "cell_type": "code",
      "source": "b",
      "metadata": {
        "trusted": true
      },
      "outputs": [
        {
          "execution_count": 26,
          "output_type": "execute_result",
          "data": {
            "text/plain": "23"
          },
          "metadata": {}
        }
      ],
      "execution_count": 26
    },
    {
      "cell_type": "code",
      "source": "c",
      "metadata": {
        "trusted": true
      },
      "outputs": [
        {
          "execution_count": 27,
          "output_type": "execute_result",
          "data": {
            "text/plain": "354.56"
          },
          "metadata": {}
        }
      ],
      "execution_count": 27
    },
    {
      "cell_type": "code",
      "source": "d",
      "metadata": {
        "trusted": true
      },
      "outputs": [
        {
          "execution_count": 28,
          "output_type": "execute_result",
          "data": {
            "text/plain": "[1, 2, 3, 6]"
          },
          "metadata": {}
        }
      ],
      "execution_count": 28
    },
    {
      "cell_type": "code",
      "source": "def test4():\n     a = 5 + 5/2\n     return a",
      "metadata": {
        "trusted": true
      },
      "outputs": [],
      "execution_count": 31
    },
    {
      "cell_type": "code",
      "source": "test4()",
      "metadata": {
        "trusted": true
      },
      "outputs": [
        {
          "execution_count": 32,
          "output_type": "execute_result",
          "data": {
            "text/plain": "7.5"
          },
          "metadata": {}
        }
      ],
      "execution_count": 32
    },
    {
      "cell_type": "code",
      "source": "def test5(a,b,c):\n     d = a+b/c\n     return d",
      "metadata": {
        "trusted": true
      },
      "outputs": [],
      "execution_count": 33
    },
    {
      "cell_type": "code",
      "source": "test5()",
      "metadata": {
        "trusted": true
      },
      "outputs": [
        {
          "ename": "<class 'TypeError'>",
          "evalue": "test5() missing 3 required positional arguments: 'a', 'b', and 'c'",
          "traceback": [
            "\u001b[0;31m---------------------------------------------------------------------------\u001b[0m",
            "\u001b[0;31mTypeError\u001b[0m                                 Traceback (most recent call last)",
            "Cell \u001b[0;32mIn[34], line 1\u001b[0m\n\u001b[0;32m----> 1\u001b[0m \u001b[43mtest5\u001b[49m\u001b[43m(\u001b[49m\u001b[43m)\u001b[49m\n",
            "\u001b[0;31mTypeError\u001b[0m: test5() missing 3 required positional arguments: 'a', 'b', and 'c'"
          ],
          "output_type": "error"
        }
      ],
      "execution_count": 34
    },
    {
      "cell_type": "code",
      "source": "def test5(a,b,c):\nd = a+b/c\nreturn d",
      "metadata": {
        "trusted": true
      },
      "outputs": [
        {
          "ename": "<class 'IndentationError'>",
          "evalue": "expected an indented block after function definition on line 1 (<ipython-input-36-b24923715d3d>, line 2)",
          "traceback": [
            "\u001b[0;36m  Cell \u001b[0;32mIn[36], line 2\u001b[0;36m\u001b[0m\n\u001b[0;31m    d = a+b/c\u001b[0m\n\u001b[0m    ^\u001b[0m\n\u001b[0;31mIndentationError\u001b[0m\u001b[0;31m:\u001b[0m expected an indented block after function definition on line 1\n"
          ],
          "output_type": "error"
        }
      ],
      "execution_count": 36
    },
    {
      "cell_type": "code",
      "source": "In [21]: test5(10,20,75)",
      "metadata": {
        "trusted": true
      },
      "outputs": [
        {
          "execution_count": 37,
          "output_type": "execute_result",
          "data": {
            "text/plain": "10.266666666666667"
          },
          "metadata": {}
        }
      ],
      "execution_count": 37
    },
    {
      "cell_type": "code",
      "source": "def test6(a,b):\n    return a+b",
      "metadata": {
        "trusted": true
      },
      "outputs": [],
      "execution_count": 41
    },
    {
      "cell_type": "code",
      "source": "test6(44,22)",
      "metadata": {
        "trusted": true
      },
      "outputs": [
        {
          "execution_count": 43,
          "output_type": "execute_result",
          "data": {
            "text/plain": "66"
          },
          "metadata": {}
        }
      ],
      "execution_count": 43
    },
    {
      "cell_type": "code",
      "source": "test6(\"lokesh\",\"lilhare\")",
      "metadata": {
        "trusted": true
      },
      "outputs": [
        {
          "execution_count": 44,
          "output_type": "execute_result",
          "data": {
            "text/plain": "'lokeshlilhare'"
          },
          "metadata": {}
        }
      ],
      "execution_count": 44
    },
    {
      "cell_type": "code",
      "source": "test6([1,2,3,4,5,6,7,89] , [ 5,6,7])",
      "metadata": {
        "trusted": true
      },
      "outputs": [
        {
          "execution_count": 46,
          "output_type": "execute_result",
          "data": {
            "text/plain": "[1, 2, 3, 4, 5, 6, 7, 89, 5, 6, 7]"
          },
          "metadata": {}
        }
      ],
      "execution_count": 46
    },
    {
      "cell_type": "code",
      "source": "l = [1,22,33,44,\"lokesh\",\"lilhare\",[1,2,33,44,55,6]]",
      "metadata": {
        "trusted": true
      },
      "outputs": [],
      "execution_count": 47
    },
    {
      "cell_type": "code",
      "source": "l1 = []\nfor i in l :\n   if type(i) == int or type(i) == float:\n      l1.append(i)",
      "metadata": {
        "trusted": true
      },
      "outputs": [],
      "execution_count": 48
    },
    {
      "cell_type": "code",
      "source": "def test7(1):\n    l1 =[]\n    for i in l :\n        if type(i) ==int or type(i) == float :\n     return l1 ,",
      "metadata": {
        "trusted": true
      },
      "outputs": [],
      "execution_count": null
    },
    {
      "cell_type": "code",
      "source": "def test8(a):\n    l1 = []\n    for i in a:\n        if type(i) == list:\n            for j in i:\n                l.append(j)\n        else:\n            if type(i) == int or type(i) == float:\n                l.append(i)\n    return l",
      "metadata": {
        "trusted": true
      },
      "outputs": [],
      "execution_count": 72
    },
    {
      "cell_type": "code",
      "source": "10",
      "metadata": {
        "trusted": true
      },
      "outputs": [
        {
          "execution_count": 71,
          "output_type": "execute_result",
          "data": {
            "text/plain": "10"
          },
          "metadata": {}
        }
      ],
      "execution_count": 73
    },
    {
      "cell_type": "code",
      "source": "10",
      "metadata": {
        "trusted": true
      },
      "outputs": [
        {
          "execution_count": 72,
          "output_type": "execute_result",
          "data": {
            "text/plain": "10"
          },
          "metadata": {}
        }
      ],
      "execution_count": 74
    },
    {
      "cell_type": "code",
      "source": "l = [1,2,3,4, \"lokesh\", \"lilhare\", [1,2,3,45,6,]]",
      "metadata": {
        "trusted": true
      },
      "outputs": [],
      "execution_count": 75
    },
    {
      "cell_type": "code",
      "source": "def test8(a):\n    l = []\n    for i in a:\n        if type(i) == list:\n            for j in i:\n                l.append(j)\n        else:\n            if type(i) == int or type(i) == float:\n                l.append(i)\n     return l",
      "metadata": {
        "trusted": true
      },
      "outputs": [],
      "execution_count": null
    },
    {
      "cell_type": "code",
      "source": "test8(1)",
      "metadata": {
        "trusted": true
      },
      "outputs": [
        {
          "ename": "<class 'TypeError'>",
          "evalue": "'int' object is not iterable",
          "traceback": [
            "\u001b[0;31m---------------------------------------------------------------------------\u001b[0m",
            "\u001b[0;31mTypeError\u001b[0m                                 Traceback (most recent call last)",
            "Cell \u001b[0;32mIn[84], line 1\u001b[0m\n\u001b[0;32m----> 1\u001b[0m \u001b[43mtest8\u001b[49m\u001b[43m(\u001b[49m\u001b[38;5;241;43m1\u001b[39;49m\u001b[43m)\u001b[49m\n",
            "Cell \u001b[0;32mIn[76], line 3\u001b[0m, in \u001b[0;36mtest8\u001b[0;34m(a)\u001b[0m\n\u001b[1;32m      1\u001b[0m \u001b[38;5;28;01mdef\u001b[39;00m \u001b[38;5;21mtest8\u001b[39m(a):\n\u001b[1;32m      2\u001b[0m     l \u001b[38;5;241m=\u001b[39m []\n\u001b[0;32m----> 3\u001b[0m \u001b[43m    \u001b[49m\u001b[38;5;28;43;01mfor\u001b[39;49;00m\u001b[43m \u001b[49m\u001b[43mi\u001b[49m\u001b[43m \u001b[49m\u001b[38;5;129;43;01min\u001b[39;49;00m\u001b[43m \u001b[49m\u001b[43ma\u001b[49m\u001b[43m:\u001b[49m\n\u001b[1;32m      4\u001b[0m \u001b[43m        \u001b[49m\u001b[38;5;28;43;01mif\u001b[39;49;00m\u001b[43m \u001b[49m\u001b[38;5;28;43mtype\u001b[39;49m\u001b[43m(\u001b[49m\u001b[43mi\u001b[49m\u001b[43m)\u001b[49m\u001b[43m \u001b[49m\u001b[38;5;241;43m==\u001b[39;49m\u001b[43m \u001b[49m\u001b[38;5;28;43mlist\u001b[39;49m\u001b[43m:\u001b[49m\n\u001b[1;32m      5\u001b[0m \u001b[43m            \u001b[49m\u001b[38;5;28;43;01mfor\u001b[39;49;00m\u001b[43m \u001b[49m\u001b[43mj\u001b[49m\u001b[43m \u001b[49m\u001b[38;5;129;43;01min\u001b[39;49;00m\u001b[43m \u001b[49m\u001b[43mi\u001b[49m\u001b[43m:\u001b[49m\n",
            "\u001b[0;31mTypeError\u001b[0m: 'int' object is not iterable"
          ],
          "output_type": "error"
        }
      ],
      "execution_count": 88
    },
    {
      "cell_type": "code",
      "source": "test()",
      "metadata": {
        "trusted": true
      },
      "outputs": [
        {
          "name": "stdout",
          "text": "this is my very very first function\n",
          "output_type": "stream"
        }
      ],
      "execution_count": 87
    },
    {
      "cell_type": "code",
      "source": "def test9(a):\n    \"\"\"This is my function to extract numeric data from list\"\"\"\n    \n    l = []\n    for i in a:\n        if type(i) == list:\n            for j in i:\n                l.append(j)\n         else:\n             if type(i) == int or type(i) == float:\n                l.append(i)\n    return l",
      "metadata": {
        "trusted": true
      },
      "outputs": [],
      "execution_count": null
    },
    {
      "cell_type": "code",
      "source": "test9()",
      "metadata": {
        "trusted": true
      },
      "outputs": [
        {
          "ename": "<class 'NameError'>",
          "evalue": "name 'test9' is not defined",
          "traceback": [
            "\u001b[0;31m---------------------------------------------------------------------------\u001b[0m",
            "\u001b[0;31mNameError\u001b[0m                                 Traceback (most recent call last)",
            "Cell \u001b[0;32mIn[86], line 1\u001b[0m\n\u001b[0;32m----> 1\u001b[0m \u001b[43mtest9\u001b[49m()\n",
            "\u001b[0;31mNameError\u001b[0m: name 'test9' is not defined"
          ],
          "output_type": "error"
        }
      ],
      "execution_count": 91
    },
    {
      "cell_type": "code",
      "source": "def test10(a,b):\n    return a+b",
      "metadata": {
        "trusted": true
      },
      "outputs": [],
      "execution_count": 92
    },
    {
      "cell_type": "code",
      "source": "def test11(*args):\n    return args",
      "metadata": {
        "trusted": true
      },
      "outputs": [],
      "execution_count": 95
    },
    {
      "cell_type": "code",
      "source": "test11()",
      "metadata": {
        "trusted": true
      },
      "outputs": [
        {
          "execution_count": 91,
          "output_type": "execute_result",
          "data": {
            "text/plain": "()"
          },
          "metadata": {}
        }
      ],
      "execution_count": 96
    },
    {
      "cell_type": "code",
      "source": "test11(1,2,3,\"lokesh\",\"lilhare\",[1,2,3,4,5])",
      "metadata": {
        "trusted": true
      },
      "outputs": [
        {
          "execution_count": 92,
          "output_type": "execute_result",
          "data": {
            "text/plain": "(1, 2, 3, 'lokesh', 'lilhare', [1, 2, 3, 4, 5])"
          },
          "metadata": {}
        }
      ],
      "execution_count": 97
    },
    {
      "cell_type": "code",
      "source": "def test12(*lokesh):\n    return lokesh",
      "metadata": {
        "trusted": true
      },
      "outputs": [],
      "execution_count": 98
    },
    {
      "cell_type": "code",
      "source": "def test13(*args,a):\n    return args , a",
      "metadata": {
        "trusted": true
      },
      "outputs": [],
      "execution_count": 100
    },
    {
      "cell_type": "code",
      "source": "test13(1,2,3,4, a=10)",
      "metadata": {
        "trusted": true
      },
      "outputs": [
        {
          "execution_count": 96,
          "output_type": "execute_result",
          "data": {
            "text/plain": "((1, 2, 3, 4), 10)"
          },
          "metadata": {}
        }
      ],
      "execution_count": 101
    },
    {
      "cell_type": "code",
      "source": "def test14(c,d,a=10, b=12):\n    return a,b,c,d ",
      "metadata": {
        "trusted": true
      },
      "outputs": [],
      "execution_count": 102
    },
    {
      "cell_type": "code",
      "source": "test14()",
      "metadata": {
        "trusted": true
      },
      "outputs": [
        {
          "ename": "<class 'TypeError'>",
          "evalue": "test14() missing 2 required positional arguments: 'c' and 'd'",
          "traceback": [
            "\u001b[0;31m---------------------------------------------------------------------------\u001b[0m",
            "\u001b[0;31mTypeError\u001b[0m                                 Traceback (most recent call last)",
            "Cell \u001b[0;32mIn[98], line 1\u001b[0m\n\u001b[0;32m----> 1\u001b[0m \u001b[43mtest14\u001b[49m\u001b[43m(\u001b[49m\u001b[43m)\u001b[49m\n",
            "\u001b[0;31mTypeError\u001b[0m: test14() missing 2 required positional arguments: 'c' and 'd'"
          ],
          "output_type": "error"
        }
      ],
      "execution_count": 103
    },
    {
      "cell_type": "code",
      "source": "test14(33,22)",
      "metadata": {
        "trusted": true
      },
      "outputs": [
        {
          "execution_count": 100,
          "output_type": "execute_result",
          "data": {
            "text/plain": "(10, 12, 33, 22)"
          },
          "metadata": {}
        }
      ],
      "execution_count": 105
    },
    {
      "cell_type": "code",
      "source": "test14(1,5,a=1234)",
      "metadata": {
        "trusted": true
      },
      "outputs": [
        {
          "execution_count": 101,
          "output_type": "execute_result",
          "data": {
            "text/plain": "(1234, 12, 1, 5)"
          },
          "metadata": {}
        }
      ],
      "execution_count": 106
    },
    {
      "cell_type": "code",
      "source": "def test15(**kwargs):\n    returb kwrf",
      "metadata": {
        "trusted": true
      },
      "outputs": [],
      "execution_count": null
    }
  ]
}