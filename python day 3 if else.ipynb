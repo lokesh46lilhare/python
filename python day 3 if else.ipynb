{
 "cells": [
  {
   "cell_type": "code",
   "execution_count": 1,
   "id": "00e40977-7d84-4737-8350-10372a0f72ef",
   "metadata": {},
   "outputs": [],
   "source": [
    "#DICTIONARY"
   ]
  },
  {
   "cell_type": "code",
   "execution_count": 3,
   "id": "31c99764-7eef-4177-815f-22388aa83189",
   "metadata": {},
   "outputs": [],
   "source": [
    "d={}"
   ]
  },
  {
   "cell_type": "code",
   "execution_count": 4,
   "id": "b11bf6e4-4289-4e7d-8a8c-612408917ece",
   "metadata": {},
   "outputs": [
    {
     "data": {
      "text/plain": [
       "dict"
      ]
     },
     "execution_count": 4,
     "metadata": {},
     "output_type": "execute_result"
    }
   ],
   "source": [
    "type(d)"
   ]
  },
  {
   "cell_type": "code",
   "execution_count": 5,
   "id": "7b937a5d-415c-4881-9432-a46c3700f978",
   "metadata": {},
   "outputs": [],
   "source": [
    "d ={'key':'lk'}"
   ]
  },
  {
   "cell_type": "code",
   "execution_count": 6,
   "id": "feb9cd1d-07f1-42e3-a22b-aaedeb4a2d74",
   "metadata": {},
   "outputs": [
    {
     "data": {
      "text/plain": [
       "{'key': 'lk'}"
      ]
     },
     "execution_count": 6,
     "metadata": {},
     "output_type": "execute_result"
    }
   ],
   "source": [
    "d"
   ]
  },
  {
   "cell_type": "code",
   "execution_count": 12,
   "id": "4d8e9c88-e3a1-431e-b4cf-2bf92f5f56df",
   "metadata": {},
   "outputs": [],
   "source": [
    "d1= {'name':'lokesh' , 'email' : 'lkb@gmail.com'}"
   ]
  },
  {
   "cell_type": "code",
   "execution_count": 13,
   "id": "fdde06d8-2d0a-492a-9c72-ed017165937c",
   "metadata": {},
   "outputs": [
    {
     "data": {
      "text/plain": [
       "{'name': 'lokesh', 'email': 'lkb@gmail.com'}"
      ]
     },
     "execution_count": 13,
     "metadata": {},
     "output_type": "execute_result"
    }
   ],
   "source": [
    "d1"
   ]
  },
  {
   "cell_type": "code",
   "execution_count": 14,
   "id": "f98f1d9e-a1c2-456d-98b2-4155dc525bc6",
   "metadata": {},
   "outputs": [],
   "source": [
    "d2 = { 111: \"lk\",True:\"lilhare\"}"
   ]
  },
  {
   "cell_type": "code",
   "execution_count": 15,
   "id": "b39c587b-d07f-416e-87c0-d5c79157c0c8",
   "metadata": {},
   "outputs": [
    {
     "data": {
      "text/plain": [
       "{111: 'lk', True: 'lilhare'}"
      ]
     },
     "execution_count": 15,
     "metadata": {},
     "output_type": "execute_result"
    }
   ],
   "source": [
    "d2"
   ]
  },
  {
   "cell_type": "code",
   "execution_count": 16,
   "id": "f9ac27f4-cbe7-486f-b068-1d32fed58b05",
   "metadata": {},
   "outputs": [
    {
     "data": {
      "text/plain": [
       "'lk'"
      ]
     },
     "execution_count": 16,
     "metadata": {},
     "output_type": "execute_result"
    }
   ],
   "source": [
    "d2[111]"
   ]
  },
  {
   "cell_type": "code",
   "execution_count": 17,
   "id": "3262499a-dda2-4cb7-8088-205548c97e91",
   "metadata": {},
   "outputs": [],
   "source": [
    "d4 = {'name' : \"lokesh\" , 'email' : \"lkb@gmail.com\", \"name\" : \"lkbhai\"}"
   ]
  },
  {
   "cell_type": "code",
   "execution_count": 18,
   "id": "2fc75d31-bfdf-48ca-9c67-dc180f5e71ae",
   "metadata": {},
   "outputs": [
    {
     "data": {
      "text/plain": [
       "{'name': 'lkbhai', 'email': 'lkb@gmail.com'}"
      ]
     },
     "execution_count": 18,
     "metadata": {},
     "output_type": "execute_result"
    }
   ],
   "source": [
    "d4"
   ]
  },
  {
   "cell_type": "code",
   "execution_count": 20,
   "id": "4f81388e-4ebb-4879-b6a4-70813489879b",
   "metadata": {},
   "outputs": [
    {
     "data": {
      "text/plain": [
       "'lkbhai'"
      ]
     },
     "execution_count": 20,
     "metadata": {},
     "output_type": "execute_result"
    }
   ],
   "source": [
    "d4['name']"
   ]
  },
  {
   "cell_type": "code",
   "execution_count": 24,
   "id": "66fd668d-a4f2-4dfc-bff4-dedc6ea50355",
   "metadata": {},
   "outputs": [],
   "source": [
    "d5 = {\"company\" : \"pwskills\" , \"courses\" : [\"web dev\" , \"data science\" , \"java\"]}"
   ]
  },
  {
   "cell_type": "code",
   "execution_count": 25,
   "id": "4e6f6bef-63dc-4ff1-a78f-e63dd9b3bbc0",
   "metadata": {},
   "outputs": [
    {
     "data": {
      "text/plain": [
       "'java'"
      ]
     },
     "execution_count": 25,
     "metadata": {},
     "output_type": "execute_result"
    }
   ],
   "source": [
    "d5['courses'][2]"
   ]
  },
  {
   "cell_type": "code",
   "execution_count": 28,
   "id": "f538149e-5054-4692-aca0-07754ea51d5d",
   "metadata": {},
   "outputs": [],
   "source": [
    "d6 = {\"number\" : [2,3,4,5,], \"assignment\" : (1,2,3,4,5,6), \"launch_date\" : {28,1,2024}}"
   ]
  },
  {
   "cell_type": "code",
   "execution_count": 29,
   "id": "a0d4c12d-0b62-4bb2-bcc7-399654bdf40f",
   "metadata": {},
   "outputs": [
    {
     "data": {
      "text/plain": [
       "{'number': [2, 3, 4, 5],\n",
       " 'assignment': (1, 2, 3, 4, 5, 6),\n",
       " 'launch_date': {1, 28, 2024}}"
      ]
     },
     "execution_count": 29,
     "metadata": {},
     "output_type": "execute_result"
    }
   ],
   "source": [
    "d6"
   ]
  },
  {
   "cell_type": "code",
   "execution_count": 30,
   "id": "69075bdc-2331-4959-9c2e-bd669857756a",
   "metadata": {},
   "outputs": [],
   "source": [
    "d6['mentor'] = [\"sudhanshu\" , \"krish\", \"anurag\", \"hayder\"]"
   ]
  },
  {
   "cell_type": "code",
   "execution_count": 31,
   "id": "8daf1edb-17ba-4945-8e10-3404dafe1f84",
   "metadata": {},
   "outputs": [
    {
     "data": {
      "text/plain": [
       "{'number': [2, 3, 4, 5],\n",
       " 'assignment': (1, 2, 3, 4, 5, 6),\n",
       " 'launch_date': {1, 28, 2024},\n",
       " 'mentor': ['sudhanshu', 'krish', 'anurag', 'hayder']}"
      ]
     },
     "execution_count": 31,
     "metadata": {},
     "output_type": "execute_result"
    }
   ],
   "source": [
    "d6"
   ]
  },
  {
   "cell_type": "code",
   "execution_count": 32,
   "id": "b02293e0-66ea-4507-84e6-a3d4f6de312d",
   "metadata": {},
   "outputs": [],
   "source": [
    "del d6['number']"
   ]
  },
  {
   "cell_type": "code",
   "execution_count": 33,
   "id": "8b68d569-b56b-47c0-ae08-c5cc9e53e10a",
   "metadata": {},
   "outputs": [
    {
     "data": {
      "text/plain": [
       "{'assignment': (1, 2, 3, 4, 5, 6),\n",
       " 'launch_date': {1, 28, 2024},\n",
       " 'mentor': ['sudhanshu', 'krish', 'anurag', 'hayder']}"
      ]
     },
     "execution_count": 33,
     "metadata": {},
     "output_type": "execute_result"
    }
   ],
   "source": [
    "d6"
   ]
  },
  {
   "cell_type": "code",
   "execution_count": 34,
   "id": "1f8c1e69-feb4-4d46-b0ca-66066147e790",
   "metadata": {},
   "outputs": [
    {
     "data": {
      "text/plain": [
       "['assignment', 'launch_date', 'mentor']"
      ]
     },
     "execution_count": 34,
     "metadata": {},
     "output_type": "execute_result"
    }
   ],
   "source": [
    "list(d6.keys())"
   ]
  },
  {
   "cell_type": "code",
   "execution_count": 35,
   "id": "2f6fae47-8162-4d9a-9b87-a7805cb8449d",
   "metadata": {},
   "outputs": [
    {
     "data": {
      "text/plain": [
       "[(1, 2, 3, 4, 5, 6), {1, 28, 2024}, ['sudhanshu', 'krish', 'anurag', 'hayder']]"
      ]
     },
     "execution_count": 35,
     "metadata": {},
     "output_type": "execute_result"
    }
   ],
   "source": [
    "list(d6.values())"
   ]
  },
  {
   "cell_type": "code",
   "execution_count": 37,
   "id": "dd1a267e-9ce3-48c6-8c63-dbfc7c35f312",
   "metadata": {},
   "outputs": [
    {
     "data": {
      "text/plain": [
       "[('assignment', (1, 2, 3, 4, 5, 6)),\n",
       " ('launch_date', {1, 28, 2024}),\n",
       " ('mentor', ['sudhanshu', 'krish', 'anurag', 'hayder'])]"
      ]
     },
     "execution_count": 37,
     "metadata": {},
     "output_type": "execute_result"
    }
   ],
   "source": [
    "list(d6.items())"
   ]
  },
  {
   "cell_type": "code",
   "execution_count": 38,
   "id": "d9fb911e-177f-4547-abee-4077ff88820b",
   "metadata": {},
   "outputs": [
    {
     "data": {
      "text/plain": [
       "(1, 2, 3, 4, 5, 6)"
      ]
     },
     "execution_count": 38,
     "metadata": {},
     "output_type": "execute_result"
    }
   ],
   "source": [
    "d6.pop(\"assignment\")"
   ]
  },
  {
   "cell_type": "code",
   "execution_count": 39,
   "id": "1507fd4b-99a4-4ccf-a965-ca09a0d2a868",
   "metadata": {},
   "outputs": [
    {
     "data": {
      "text/plain": [
       "{'launch_date': {1, 28, 2024},\n",
       " 'mentor': ['sudhanshu', 'krish', 'anurag', 'hayder']}"
      ]
     },
     "execution_count": 39,
     "metadata": {},
     "output_type": "execute_result"
    }
   ],
   "source": [
    "d6"
   ]
  },
  {
   "cell_type": "code",
   "execution_count": 40,
   "id": "46466c5a-8de4-4456-a7f0-7d5f0f8b2ca8",
   "metadata": {},
   "outputs": [
    {
     "name": "stdout",
     "output_type": "stream",
     "text": [
      "you will be part of A1 batch\n"
     ]
    }
   ],
   "source": [
    "marks = 75\n",
    "if marks >= 80 :\n",
    "    print(\"you will be part of A batch\")\n",
    "elif marks >= 60 and marks < 80 :\n",
    "    print(\"you will be part of A1 batch\")"
   ]
  },
  {
   "cell_type": "code",
   "execution_count": 44,
   "id": "386ad8d6-4806-4e6d-9e07-ec72c9d0c8c6",
   "metadata": {},
   "outputs": [
    {
     "name": "stdout",
     "output_type": "stream",
     "text": [
      "you will be part of A batch\n"
     ]
    }
   ],
   "source": [
    "marks = 50\n",
    "if marks >= 50 :\n",
    "    print(\"you will be part of A batch\")\n",
    "elif marks >= 60 and marks < 40 :\n",
    "    print(\"you will be part of A1 batch\")"
   ]
  },
  {
   "cell_type": "code",
   "execution_count": 45,
   "id": "6eb46663-43bb-478a-9e98-6f967ffaa2f1",
   "metadata": {},
   "outputs": [
    {
     "name": "stdin",
     "output_type": "stream",
     "text": [
      "enter your marks 55\n"
     ]
    },
    {
     "name": "stdout",
     "output_type": "stream",
     "text": [
      "you will be part of A2 batch\n"
     ]
    }
   ],
   "source": [
    "marks = int(input(\"enter your marks\"))\n",
    "if marks >= 80 :\n",
    "    print(\"you will be part of A batch\")\n",
    "elif marks >= 60 and marks < 80 :\n",
    "    print(\"you will be part of A1 batch\")\n",
    "elif marks >=40 and marks < 60 :\n",
    "    print(\"you will be part of A2 batch\")\n",
    "else :\n",
    "    print(\"you will be part of A3 batch\")"
   ]
  },
  {
   "cell_type": "code",
   "execution_count": 46,
   "id": "69c607ca-0846-4c57-bc42-c0fea9d4a905",
   "metadata": {},
   "outputs": [
    {
     "name": "stdin",
     "output_type": "stream",
     "text": [
      "enter your price 700\n"
     ]
    },
    {
     "name": "stdout",
     "output_type": "stream",
     "text": [
      "i will not purchase\n"
     ]
    }
   ],
   "source": [
    "price = int(input(\"enter your price\"))\n",
    "if price > 1000 :\n",
    "    print(\"i will purchase\")\n",
    "else :\n",
    "    print(\"i will not purchase\")"
   ]
  },
  {
   "cell_type": "code",
   "execution_count": 47,
   "id": "cae405e3-44e6-4b43-9660-573ed1d20a48",
   "metadata": {},
   "outputs": [
    {
     "name": "stdin",
     "output_type": "stream",
     "text": [
      "enter your price 1100\n"
     ]
    },
    {
     "name": "stdout",
     "output_type": "stream",
     "text": [
      "i will purchase\n"
     ]
    }
   ],
   "source": [
    "price = int(input(\"enter your price\"))\n",
    "if price > 1000 :\n",
    "    print(\"i will purchase\")\n",
    "else :\n",
    "    print(\"i will not purchase\")"
   ]
  },
  {
   "cell_type": "code",
   "execution_count": 51,
   "id": "aee3af89-1481-409d-b203-934bcfd72d15",
   "metadata": {},
   "outputs": [
    {
     "name": "stdin",
     "output_type": "stream",
     "text": [
      "enter your price 1700\n"
     ]
    },
    {
     "name": "stdout",
     "output_type": "stream",
     "text": [
      "i will not purchase\n",
      "i will purchase\n"
     ]
    }
   ],
   "source": [
    "price = int(input(\"enter your price\"))\n",
    "if price > 1000 :\n",
    "    print(\"i will not purchase\")\n",
    "if price > 5000 :\n",
    "    print(\"are you mad?? who charged this much amount for this bloody dress\")\n",
    "else :\n",
    "    print(\"i will purchase\")"
   ]
  },
  {
   "cell_type": "code",
   "execution_count": 53,
   "id": "d712753c-2793-41cd-9acf-65b6d4093b38",
   "metadata": {},
   "outputs": [],
   "source": [
    "l = [1,2,33,44,55,6,77,779]"
   ]
  },
  {
   "cell_type": "code",
   "execution_count": 54,
   "id": "fe13b058-b2d6-496b-a68e-a6b1ce9c0c98",
   "metadata": {},
   "outputs": [
    {
     "name": "stdout",
     "output_type": "stream",
     "text": [
      "2\n",
      "3\n",
      "34\n",
      "45\n",
      "56\n",
      "7\n",
      "78\n",
      "780\n"
     ]
    }
   ],
   "source": [
    "l1 = []\n",
    "for i in l :\n",
    "    print(i+1)\n",
    "    l1.append(i+1)"
   ]
  },
  {
   "cell_type": "code",
   "execution_count": 57,
   "id": "2d7e64c5-d08a-4aaf-a169-60bdeea79d98",
   "metadata": {},
   "outputs": [
    {
     "data": {
      "text/plain": [
       "[1, 2, 33, 44, 55, 6, 77, 779]"
      ]
     },
     "execution_count": 57,
     "metadata": {},
     "output_type": "execute_result"
    }
   ],
   "source": [
    "l"
   ]
  },
  {
   "cell_type": "code",
   "execution_count": 58,
   "id": "4d96828f-c232-4a5b-9321-4584e6db43ff",
   "metadata": {},
   "outputs": [],
   "source": [
    "l = [\"lokesh\", \"lilhare\" , \"pwskills\", \"course\"]"
   ]
  },
  {
   "cell_type": "code",
   "execution_count": 59,
   "id": "a515c466-83bc-4b2e-b0d6-4b93f2660e88",
   "metadata": {},
   "outputs": [
    {
     "name": "stdout",
     "output_type": "stream",
     "text": [
      "lokesh\n",
      "lilhare\n",
      "pwskills\n",
      "course\n"
     ]
    }
   ],
   "source": [
    "l1 = []\n",
    "for i in l :\n",
    "    print(i)\n",
    "    l1.append(i.upper())"
   ]
  },
  {
   "cell_type": "code",
   "execution_count": 60,
   "id": "bb7be36c-efce-4fa6-9e74-b6549bbd4175",
   "metadata": {},
   "outputs": [
    {
     "data": {
      "text/plain": [
       "['LOKESH', 'LILHARE', 'PWSKILLS', 'COURSE']"
      ]
     },
     "execution_count": 60,
     "metadata": {},
     "output_type": "execute_result"
    }
   ],
   "source": [
    "l1"
   ]
  },
  {
   "cell_type": "code",
   "execution_count": 64,
   "id": "4cbeef39-49fd-47f3-ac0e-422eeea38c9a",
   "metadata": {},
   "outputs": [
    {
     "ename": "IndentationError",
     "evalue": "unexpected indent (3714798200.py, line 3)",
     "output_type": "error",
     "traceback": [
      "\u001b[0;36m  Cell \u001b[0;32mIn[64], line 3\u001b[0;36m\u001b[0m\n\u001b[0;31m    for i in l :\u001b[0m\n\u001b[0m    ^\u001b[0m\n\u001b[0;31mIndentationError\u001b[0m\u001b[0;31m:\u001b[0m unexpected indent\n"
     ]
    }
   ],
   "source": [
    "l1_num = []\n",
    "l2_str = []\n",
    "    for i in l :\n",
    "if type(i) ==int or type(i) == float :\n",
    "     l1_num.append(i)\n",
    "    else :\n",
    "       l2_str.append(i)\n",
    "print(l1_num)\n",
    "print(l2_str)"
   ]
  },
  {
   "cell_type": "code",
   "execution_count": null,
   "id": "3438226a-f918-4823-857a-ce7891738b2b",
   "metadata": {},
   "outputs": [],
   "source": []
  }
 ],
 "metadata": {
  "kernelspec": {
   "display_name": "Python 3 (ipykernel)",
   "language": "python",
   "name": "python3"
  },
  "language_info": {
   "codemirror_mode": {
    "name": "ipython",
    "version": 3
   },
   "file_extension": ".py",
   "mimetype": "text/x-python",
   "name": "python",
   "nbconvert_exporter": "python",
   "pygments_lexer": "ipython3",
   "version": "3.10.8"
  }
 },
 "nbformat": 4,
 "nbformat_minor": 5
}
