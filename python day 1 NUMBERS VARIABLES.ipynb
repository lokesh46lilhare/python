{
 "cells": [
  {
   "cell_type": "code",
   "execution_count": 1,
   "id": "bb70db1b-58d1-40fd-ac92-3fe6f6992452",
   "metadata": {},
   "outputs": [],
   "source": [
    "# NUMBERS"
   ]
  },
  {
   "cell_type": "code",
   "execution_count": 2,
   "id": "d24711cb-94e2-42d9-9950-fa1527555d7b",
   "metadata": {},
   "outputs": [
    {
     "data": {
      "text/plain": [
       "30"
      ]
     },
     "execution_count": 2,
     "metadata": {},
     "output_type": "execute_result"
    }
   ],
   "source": [
    "10+20"
   ]
  },
  {
   "cell_type": "code",
   "execution_count": 3,
   "id": "c63e46a7-db4d-46d6-9409-6b0ba00839b2",
   "metadata": {},
   "outputs": [],
   "source": [
    "a=10"
   ]
  },
  {
   "cell_type": "code",
   "execution_count": 4,
   "id": "1b8bcbfd-1d54-4279-8c96-2d363537ee25",
   "metadata": {},
   "outputs": [
    {
     "data": {
      "text/plain": [
       "10"
      ]
     },
     "execution_count": 4,
     "metadata": {},
     "output_type": "execute_result"
    }
   ],
   "source": [
    "a"
   ]
  },
  {
   "cell_type": "code",
   "execution_count": 5,
   "id": "a91667c6-3146-42ca-a520-29cb796a4342",
   "metadata": {},
   "outputs": [],
   "source": [
    "b=22"
   ]
  },
  {
   "cell_type": "code",
   "execution_count": 6,
   "id": "a3c977ff-1f75-41d3-938f-1cbf34e91b7a",
   "metadata": {},
   "outputs": [
    {
     "data": {
      "text/plain": [
       "22"
      ]
     },
     "execution_count": 6,
     "metadata": {},
     "output_type": "execute_result"
    }
   ],
   "source": [
    "b"
   ]
  },
  {
   "cell_type": "code",
   "execution_count": 7,
   "id": "f3c4c24b-7256-49d8-8b21-8ff20c71178f",
   "metadata": {},
   "outputs": [],
   "source": [
    "#VARIABLES"
   ]
  },
  {
   "cell_type": "code",
   "execution_count": 13,
   "id": "6c1ff5b0-cac3-4ba9-bc2f-d86c42ec3cce",
   "metadata": {},
   "outputs": [],
   "source": [
    "lokesh = 100"
   ]
  },
  {
   "cell_type": "code",
   "execution_count": 14,
   "id": "145998d1-bb59-4f74-afa8-291ad68d9abf",
   "metadata": {},
   "outputs": [
    {
     "data": {
      "text/plain": [
       "110"
      ]
     },
     "execution_count": 14,
     "metadata": {},
     "output_type": "execute_result"
    }
   ],
   "source": [
    "a+lokesh"
   ]
  },
  {
   "cell_type": "code",
   "execution_count": 15,
   "id": "002b1f0d-f48f-4146-91e2-d6b4710ecf72",
   "metadata": {},
   "outputs": [
    {
     "data": {
      "text/plain": [
       "int"
      ]
     },
     "execution_count": 15,
     "metadata": {},
     "output_type": "execute_result"
    }
   ],
   "source": [
    "type(a)"
   ]
  },
  {
   "cell_type": "code",
   "execution_count": 16,
   "id": "8fba56c8-19c2-49cf-abb8-906a8f1cf861",
   "metadata": {},
   "outputs": [],
   "source": [
    " c = 4.99"
   ]
  },
  {
   "cell_type": "code",
   "execution_count": 17,
   "id": "61143673-a08b-464d-93d4-810c60767e01",
   "metadata": {},
   "outputs": [
    {
     "data": {
      "text/plain": [
       "float"
      ]
     },
     "execution_count": 17,
     "metadata": {},
     "output_type": "execute_result"
    }
   ],
   "source": [
    "type(c)"
   ]
  },
  {
   "cell_type": "code",
   "execution_count": 18,
   "id": "978e0e09-eeb3-4a38-9f21-b4bab6ad60ee",
   "metadata": {},
   "outputs": [],
   "source": [
    "e = \" lokesh is an engineer\""
   ]
  },
  {
   "cell_type": "code",
   "execution_count": 19,
   "id": "8f89b36a-7c42-4b1e-87ad-58903634ca47",
   "metadata": {},
   "outputs": [
    {
     "data": {
      "text/plain": [
       "' lokesh is an engineer'"
      ]
     },
     "execution_count": 19,
     "metadata": {},
     "output_type": "execute_result"
    }
   ],
   "source": [
    "e"
   ]
  },
  {
   "cell_type": "code",
   "execution_count": 20,
   "id": "d2d693c9-889c-4e7c-9c12-c8dc11a01a31",
   "metadata": {},
   "outputs": [],
   "source": [
    "n = True"
   ]
  },
  {
   "cell_type": "code",
   "execution_count": 21,
   "id": "7092f62d-ac9f-4533-9d67-0987b80173a1",
   "metadata": {},
   "outputs": [],
   "source": [
    "m = True"
   ]
  },
  {
   "cell_type": "code",
   "execution_count": 22,
   "id": "aaaa9a3f-6912-4614-a804-2d180297f8bb",
   "metadata": {},
   "outputs": [
    {
     "data": {
      "text/plain": [
       "2"
      ]
     },
     "execution_count": 22,
     "metadata": {},
     "output_type": "execute_result"
    }
   ],
   "source": [
    "n+m"
   ]
  },
  {
   "cell_type": "code",
   "execution_count": 23,
   "id": "ce54b479-febe-4b2c-bee7-389b52ca958d",
   "metadata": {},
   "outputs": [
    {
     "data": {
      "text/plain": [
       "0"
      ]
     },
     "execution_count": 23,
     "metadata": {},
     "output_type": "execute_result"
    }
   ],
   "source": [
    "True* False"
   ]
  },
  {
   "cell_type": "code",
   "execution_count": 24,
   "id": "db2f4685-ec39-4805-870e-a946b909d820",
   "metadata": {},
   "outputs": [
    {
     "ename": "ZeroDivisionError",
     "evalue": "division by zero",
     "output_type": "error",
     "traceback": [
      "\u001b[0;31m---------------------------------------------------------------------------\u001b[0m",
      "\u001b[0;31mZeroDivisionError\u001b[0m                         Traceback (most recent call last)",
      "Cell \u001b[0;32mIn[24], line 1\u001b[0m\n\u001b[0;32m----> 1\u001b[0m \u001b[38;5;28;43;01mTrue\u001b[39;49;00m\u001b[38;5;241;43m/\u001b[39;49m\u001b[38;5;28;43;01mFalse\u001b[39;49;00m\n",
      "\u001b[0;31mZeroDivisionError\u001b[0m: division by zero"
     ]
    }
   ],
   "source": [
    "True/False"
   ]
  },
  {
   "cell_type": "code",
   "execution_count": 25,
   "id": "47736735-aea1-4a0b-9419-68072445a00f",
   "metadata": {},
   "outputs": [],
   "source": [
    "v = 5+ 7j"
   ]
  },
  {
   "cell_type": "code",
   "execution_count": 26,
   "id": "f76b6b65-c471-4ba8-a824-3750e481a9ed",
   "metadata": {},
   "outputs": [
    {
     "data": {
      "text/plain": [
       "5.0"
      ]
     },
     "execution_count": 26,
     "metadata": {},
     "output_type": "execute_result"
    }
   ],
   "source": [
    "v.real"
   ]
  },
  {
   "cell_type": "code",
   "execution_count": 27,
   "id": "3fef2b19-f9aa-469a-850c-b4cfb4321dc5",
   "metadata": {},
   "outputs": [],
   "source": [
    "lokesh = 5 +4j"
   ]
  },
  {
   "cell_type": "code",
   "execution_count": 28,
   "id": "9bf84350-034a-49f7-8c42-119765cb30ed",
   "metadata": {},
   "outputs": [
    {
     "data": {
      "text/plain": [
       "(5+4j)"
      ]
     },
     "execution_count": 28,
     "metadata": {},
     "output_type": "execute_result"
    }
   ],
   "source": [
    "lokesh"
   ]
  },
  {
   "cell_type": "code",
   "execution_count": 29,
   "id": "221c47c7-84c5-4108-9077-f9798bd47ec6",
   "metadata": {},
   "outputs": [
    {
     "name": "stdout",
     "output_type": "stream",
     "text": [
      "my name is lokesh\n"
     ]
    }
   ],
   "source": [
    "print(\"my name is lokesh\")"
   ]
  },
  {
   "cell_type": "code",
   "execution_count": 30,
   "id": "4e724eea-7b10-48db-bacc-a8026d831ba3",
   "metadata": {},
   "outputs": [],
   "source": [
    "s = \" lokesh\""
   ]
  },
  {
   "cell_type": "code",
   "execution_count": 31,
   "id": "091401cb-74fa-4dd3-8a9b-ef701962b467",
   "metadata": {},
   "outputs": [
    {
     "data": {
      "text/plain": [
       "str"
      ]
     },
     "execution_count": 31,
     "metadata": {},
     "output_type": "execute_result"
    }
   ],
   "source": [
    "type(s)"
   ]
  },
  {
   "cell_type": "code",
   "execution_count": 32,
   "id": "019372d4-5f85-4f43-b2b2-6201e55fbbb9",
   "metadata": {},
   "outputs": [
    {
     "data": {
      "text/plain": [
       "'e'"
      ]
     },
     "execution_count": 32,
     "metadata": {},
     "output_type": "execute_result"
    }
   ],
   "source": [
    "s[-3]"
   ]
  },
  {
   "cell_type": "code",
   "execution_count": 33,
   "id": "3e7d3c58-837e-4847-ae27-22983ffda1c3",
   "metadata": {},
   "outputs": [
    {
     "data": {
      "text/plain": [
       "'o'"
      ]
     },
     "execution_count": 33,
     "metadata": {},
     "output_type": "execute_result"
    }
   ],
   "source": [
    "s[-5]"
   ]
  },
  {
   "cell_type": "code",
   "execution_count": 34,
   "id": "2c2c8872-f21e-4a75-a29f-34a5a2046f55",
   "metadata": {},
   "outputs": [
    {
     "data": {
      "text/plain": [
       "' lo'"
      ]
     },
     "execution_count": 34,
     "metadata": {},
     "output_type": "execute_result"
    }
   ],
   "source": [
    "s[0:3]"
   ]
  },
  {
   "cell_type": "code",
   "execution_count": 35,
   "id": "078a01c4-9934-4ec4-b956-b0e58ff912f1",
   "metadata": {},
   "outputs": [
    {
     "data": {
      "text/plain": [
       "' lokesh'"
      ]
     },
     "execution_count": 35,
     "metadata": {},
     "output_type": "execute_result"
    }
   ],
   "source": [
    "s[0:23]"
   ]
  },
  {
   "cell_type": "code",
   "execution_count": 36,
   "id": "94d48083-b6e2-4e20-a405-c596431dd71c",
   "metadata": {},
   "outputs": [
    {
     "data": {
      "text/plain": [
       "' l'"
      ]
     },
     "execution_count": 36,
     "metadata": {},
     "output_type": "execute_result"
    }
   ],
   "source": [
    "s[0:2]"
   ]
  },
  {
   "cell_type": "code",
   "execution_count": 37,
   "id": "4ecfa3ca-3c14-4afa-9bbf-67640df43993",
   "metadata": {},
   "outputs": [
    {
     "data": {
      "text/plain": [
       "' oe'"
      ]
     },
     "execution_count": 37,
     "metadata": {},
     "output_type": "execute_result"
    }
   ],
   "source": [
    "s[-0:6:2]"
   ]
  },
  {
   "cell_type": "code",
   "execution_count": 38,
   "id": "4f6e7b1b-182d-4670-bf51-a6778b851c54",
   "metadata": {},
   "outputs": [
    {
     "data": {
      "text/plain": [
       "' oe'"
      ]
     },
     "execution_count": 38,
     "metadata": {},
     "output_type": "execute_result"
    }
   ],
   "source": [
    "s[0:6:2]"
   ]
  },
  {
   "cell_type": "code",
   "execution_count": 39,
   "id": "f9722b4a-e7c8-4225-87d9-1e82e390990b",
   "metadata": {},
   "outputs": [
    {
     "data": {
      "text/plain": [
       "' oeh'"
      ]
     },
     "execution_count": 39,
     "metadata": {},
     "output_type": "execute_result"
    }
   ],
   "source": [
    "s[::2]"
   ]
  },
  {
   "cell_type": "code",
   "execution_count": 43,
   "id": "48f077ba-4c14-49fe-b9f2-3946e16c8194",
   "metadata": {},
   "outputs": [
    {
     "data": {
      "text/plain": [
       "'heo '"
      ]
     },
     "execution_count": 43,
     "metadata": {},
     "output_type": "execute_result"
    }
   ],
   "source": [
    "s[::-2]"
   ]
  },
  {
   "cell_type": "code",
   "execution_count": 45,
   "id": "42939d5b-b8e2-4799-b74d-be175af1610a",
   "metadata": {},
   "outputs": [
    {
     "data": {
      "text/plain": [
       "'hsekol '"
      ]
     },
     "execution_count": 45,
     "metadata": {},
     "output_type": "execute_result"
    }
   ],
   "source": [
    "s[::-1]"
   ]
  },
  {
   "cell_type": "code",
   "execution_count": 46,
   "id": "95800667-5934-41f4-8b69-10bbf0e430f2",
   "metadata": {},
   "outputs": [
    {
     "data": {
      "text/plain": [
       "'hsekol'"
      ]
     },
     "execution_count": 46,
     "metadata": {},
     "output_type": "execute_result"
    }
   ],
   "source": [
    "s[8:0:-1]"
   ]
  },
  {
   "cell_type": "code",
   "execution_count": 47,
   "id": "61576a57-83d6-4986-a00e-72be1930c566",
   "metadata": {},
   "outputs": [
    {
     "data": {
      "text/plain": [
       "1010"
      ]
     },
     "execution_count": 47,
     "metadata": {},
     "output_type": "execute_result"
    }
   ],
   "source": [
    "a+1000"
   ]
  },
  {
   "cell_type": "code",
   "execution_count": 48,
   "id": "6fbecc6c-e5b4-465b-a958-212198735948",
   "metadata": {},
   "outputs": [],
   "source": [
    "a=200"
   ]
  },
  {
   "cell_type": "code",
   "execution_count": 49,
   "id": "03e59a0c-56ea-4d2c-85e3-f09b2ba48bc2",
   "metadata": {},
   "outputs": [],
   "source": [
    "lokesh=1000"
   ]
  },
  {
   "cell_type": "code",
   "execution_count": 50,
   "id": "0bbf1fbe-bea1-46e3-8849-dd8a844f8834",
   "metadata": {},
   "outputs": [
    {
     "data": {
      "text/plain": [
       "1200"
      ]
     },
     "execution_count": 50,
     "metadata": {},
     "output_type": "execute_result"
    }
   ],
   "source": [
    "a+lokesh"
   ]
  },
  {
   "cell_type": "code",
   "execution_count": 51,
   "id": "a5053d01-8cfb-4b07-85c8-63b5050a84d9",
   "metadata": {},
   "outputs": [],
   "source": [
    "lokesh =100"
   ]
  },
  {
   "cell_type": "code",
   "execution_count": 52,
   "id": "7e88dedd-4eb7-44a5-bb60-abaa2e21b262",
   "metadata": {},
   "outputs": [
    {
     "data": {
      "text/plain": [
       "100"
      ]
     },
     "execution_count": 52,
     "metadata": {},
     "output_type": "execute_result"
    }
   ],
   "source": [
    "a-lokesh"
   ]
  },
  {
   "cell_type": "code",
   "execution_count": 53,
   "id": "a67ed1fb-ccd8-42f0-beac-540b0ef42d9d",
   "metadata": {},
   "outputs": [
    {
     "data": {
      "text/plain": [
       "300"
      ]
     },
     "execution_count": 53,
     "metadata": {},
     "output_type": "execute_result"
    }
   ],
   "source": [
    "a+lokesh"
   ]
  },
  {
   "cell_type": "code",
   "execution_count": 54,
   "id": "90ecaeb7-c759-456d-948b-510bcd4c8619",
   "metadata": {},
   "outputs": [],
   "source": [
    "lk= 3/6"
   ]
  },
  {
   "cell_type": "code",
   "execution_count": 55,
   "id": "67cd8ab0-5d7c-46de-88d1-1ccb11721e8e",
   "metadata": {},
   "outputs": [
    {
     "data": {
      "text/plain": [
       "200.5"
      ]
     },
     "execution_count": 55,
     "metadata": {},
     "output_type": "execute_result"
    }
   ],
   "source": [
    "a+lk"
   ]
  },
  {
   "cell_type": "code",
   "execution_count": 56,
   "id": "85fdebe3-d090-4e01-8670-b7a17a7b6104",
   "metadata": {},
   "outputs": [],
   "source": [
    "a=\"lokesh\""
   ]
  },
  {
   "cell_type": "code",
   "execution_count": 57,
   "id": "a4e6a5e6-2548-41a1-b960-c0dd284b4465",
   "metadata": {},
   "outputs": [
    {
     "data": {
      "text/plain": [
       "'l'"
      ]
     },
     "execution_count": 57,
     "metadata": {},
     "output_type": "execute_result"
    }
   ],
   "source": [
    "a[0]"
   ]
  },
  {
   "cell_type": "code",
   "execution_count": 58,
   "id": "0fa0dff1-3480-4d8b-851f-f65a763ea54b",
   "metadata": {},
   "outputs": [
    {
     "data": {
      "text/plain": [
       "'k'"
      ]
     },
     "execution_count": 58,
     "metadata": {},
     "output_type": "execute_result"
    }
   ],
   "source": [
    "a[2:3]"
   ]
  },
  {
   "cell_type": "code",
   "execution_count": 59,
   "id": "c7aed92f-7586-47a3-aabc-ce3a4bdc8e62",
   "metadata": {},
   "outputs": [
    {
     "data": {
      "text/plain": [
       "'ok'"
      ]
     },
     "execution_count": 59,
     "metadata": {},
     "output_type": "execute_result"
    }
   ],
   "source": [
    "a[1:3]"
   ]
  },
  {
   "cell_type": "code",
   "execution_count": 60,
   "id": "e30a8dc3-ff7f-4ccf-a3c9-cf37f04927be",
   "metadata": {},
   "outputs": [
    {
     "data": {
      "text/plain": [
       "''"
      ]
     },
     "execution_count": 60,
     "metadata": {},
     "output_type": "execute_result"
    }
   ],
   "source": [
    "a[3:3]"
   ]
  },
  {
   "cell_type": "code",
   "execution_count": 61,
   "id": "aa9f1009-d1fc-4f6f-91fe-74767a9a3d22",
   "metadata": {},
   "outputs": [
    {
     "data": {
      "text/plain": [
       "'okes'"
      ]
     },
     "execution_count": 61,
     "metadata": {},
     "output_type": "execute_result"
    }
   ],
   "source": [
    "a[1:5]"
   ]
  },
  {
   "cell_type": "code",
   "execution_count": 62,
   "id": "6e739baa-6907-4a4b-bbee-5cbb0dd6ce8a",
   "metadata": {},
   "outputs": [
    {
     "data": {
      "text/plain": [
       "'ls'"
      ]
     },
     "execution_count": 62,
     "metadata": {},
     "output_type": "execute_result"
    }
   ],
   "source": [
    "a[::4]"
   ]
  },
  {
   "cell_type": "code",
   "execution_count": 63,
   "id": "d81603f5-6189-42ee-94ba-0eb7e414c448",
   "metadata": {},
   "outputs": [
    {
     "data": {
      "text/plain": [
       "'kesh'"
      ]
     },
     "execution_count": 63,
     "metadata": {},
     "output_type": "execute_result"
    }
   ],
   "source": [
    "a[2:80]"
   ]
  },
  {
   "cell_type": "code",
   "execution_count": null,
   "id": "898cf069-8a68-473a-bfbe-13868734c2d4",
   "metadata": {},
   "outputs": [],
   "source": []
  }
 ],
 "metadata": {
  "kernelspec": {
   "display_name": "Python 3 (ipykernel)",
   "language": "python",
   "name": "python3"
  },
  "language_info": {
   "codemirror_mode": {
    "name": "ipython",
    "version": 3
   },
   "file_extension": ".py",
   "mimetype": "text/x-python",
   "name": "python",
   "nbconvert_exporter": "python",
   "pygments_lexer": "ipython3",
   "version": "3.10.8"
  }
 },
 "nbformat": 4,
 "nbformat_minor": 5
}
