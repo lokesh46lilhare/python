{
 "cells": [
  {
   "cell_type": "code",
   "execution_count": 3,
   "id": "388f9a7e-67ad-49f4-8b97-252ab989b80b",
   "metadata": {},
   "outputs": [
    {
     "name": "stdout",
     "output_type": "stream",
     "text": [
      "1\n",
      "2\n",
      "3\n",
      "4\n",
      "5\n",
      "6\n",
      "7\n",
      "8\n",
      "9\n",
      "10\n"
     ]
    }
   ],
   "source": [
    "a=1\n",
    "while a<=10 :\n",
    "     print(a)\n",
    "     a = a+1"
   ]
  },
  {
   "cell_type": "code",
   "execution_count": 4,
   "id": "569e082d-5dee-447f-80b1-09fc90a3eaa1",
   "metadata": {},
   "outputs": [
    {
     "name": "stdin",
     "output_type": "stream",
     "text": [
      "enter your limit 5\n"
     ]
    },
    {
     "data": {
      "text/plain": [
       "15"
      ]
     },
     "execution_count": 4,
     "metadata": {},
     "output_type": "execute_result"
    }
   ],
   "source": [
    "n = int(input(\"enter your limit\"))\n",
    "Starting_point = 0\n",
    "counter = 1\n",
    "while counter<=n :\n",
    "     Starting_point = Starting_point + counter\n",
    "     counter = counter + 1\n",
    "Starting_point"
   ]
  },
  {
   "cell_type": "code",
   "execution_count": 5,
   "id": "b6b70032-2fa6-4a00-b919-cffb4c0ceac2",
   "metadata": {},
   "outputs": [
    {
     "name": "stdin",
     "output_type": "stream",
     "text": [
      "enter your limit 5\n"
     ]
    },
    {
     "data": {
      "text/plain": [
       "15"
      ]
     },
     "execution_count": 5,
     "metadata": {},
     "output_type": "execute_result"
    }
   ],
   "source": [
    "n = int(input(\"enter your limit\"))\n",
    "Starting_point = 0\n",
    "counter = 1\n",
    "while counter<=n :\n",
    "    Starting_point = Starting_point + counter\n",
    "    counter = counter + 1\n",
    "Starting_point"
   ]
  },
  {
   "cell_type": "code",
   "execution_count": 6,
   "id": "3ade5f33-5e53-4b9c-82ca-498055ace165",
   "metadata": {},
   "outputs": [
    {
     "name": "stdin",
     "output_type": "stream",
     "text": [
      "enter your number 5\n"
     ]
    },
    {
     "data": {
      "text/plain": [
       "120"
      ]
     },
     "execution_count": 6,
     "metadata": {},
     "output_type": "execute_result"
    }
   ],
   "source": [
    "number = int(input(\"enter your number\"))\n",
    "Factorial = 1\n",
    "while number>0 :\n",
    "    Factorial = Factorial*number\n",
    "    number = number-1\n",
    "Factorial"
   ]
  },
  {
   "cell_type": "code",
   "execution_count": 8,
   "id": "cacecf96-66bb-4537-849c-5d841081596a",
   "metadata": {},
   "outputs": [
    {
     "name": "stdin",
     "output_type": "stream",
     "text": [
      "enter your number 6\n"
     ]
    },
    {
     "data": {
      "text/plain": [
       "720"
      ]
     },
     "execution_count": 8,
     "metadata": {},
     "output_type": "execute_result"
    }
   ],
   "source": [
    "number = int(input(\"enter your number\"))\n",
    "Factorial = 1\n",
    "while number>0 :\n",
    "    Factorial = Factorial*number\n",
    "    number = number-1\n",
    "Factorial"
   ]
  },
  {
   "cell_type": "code",
   "execution_count": 12,
   "id": "5f5f1498-5ca1-4874-a928-fa496d2c7d20",
   "metadata": {},
   "outputs": [
    {
     "name": "stdin",
     "output_type": "stream",
     "text": [
      "enter the number of element you are looking for 5\n"
     ]
    },
    {
     "name": "stdout",
     "output_type": "stream",
     "text": [
      "0\n",
      "1\n",
      "1\n",
      "2\n",
      "3\n"
     ]
    }
   ],
   "source": [
    "number = int(input(\"enter the number of element you are looking for\"))\n",
    "a,b = 0,1\n",
    "counter = 0\n",
    "while counter<number :\n",
    "     print(a)\n",
    "     c = a+b\n",
    "     a=b\n",
    "     b=c\n",
    "     counter = counter + 1"
   ]
  },
  {
   "cell_type": "code",
   "execution_count": 13,
   "id": "73270d9c-3da3-4155-b9de-a5ca06a5631d",
   "metadata": {},
   "outputs": [
    {
     "name": "stdout",
     "output_type": "stream",
     "text": [
      "0\n",
      "1\n",
      "1\n",
      "2\n",
      "3\n",
      "5\n",
      "8\n",
      "13\n",
      "21\n",
      "34\n"
     ]
    }
   ],
   "source": [
    "a,b = 0,1\n",
    "for i in range(10):\n",
    "     print(a)\n",
    "     c = a+b\n",
    "     a=b\n",
    "     b=c"
   ]
  },
  {
   "cell_type": "code",
   "execution_count": 14,
   "id": "7c23da04-15e7-46e3-b1e5-d5168e9ad43c",
   "metadata": {},
   "outputs": [],
   "source": [
    "s = \"sudh\""
   ]
  },
  {
   "cell_type": "code",
   "execution_count": 15,
   "id": "94c4a8cc-44b6-40cd-a069-fdf1b640d078",
   "metadata": {},
   "outputs": [
    {
     "data": {
      "text/plain": [
       "'hdus'"
      ]
     },
     "execution_count": 15,
     "metadata": {},
     "output_type": "execute_result"
    }
   ],
   "source": [
    "s[::-1]"
   ]
  },
  {
   "cell_type": "code",
   "execution_count": 16,
   "id": "69e34288-9cb9-4d31-b60a-f8d38fbe4ba8",
   "metadata": {},
   "outputs": [
    {
     "name": "stdin",
     "output_type": "stream",
     "text": [
      "enter your string for reversal 5\n"
     ]
    }
   ],
   "source": [
    "word = input(\"enter your string for reversal\")"
   ]
  },
  {
   "cell_type": "code",
   "execution_count": 17,
   "id": "0df9d3ec-d3c2-4da8-8637-92f7a16ea8e2",
   "metadata": {},
   "outputs": [],
   "source": [
    "leg = len (word)"
   ]
  },
  {
   "cell_type": "code",
   "execution_count": 18,
   "id": "5d37c29a-f5bc-4dd9-8724-d0beb5ddab69",
   "metadata": {},
   "outputs": [
    {
     "data": {
      "text/plain": [
       "1"
      ]
     },
     "execution_count": 18,
     "metadata": {},
     "output_type": "execute_result"
    }
   ],
   "source": [
    "len(word)"
   ]
  },
  {
   "cell_type": "code",
   "execution_count": 20,
   "id": "0a66d8b7-c9cb-4bd8-a3d1-d0e8f3712719",
   "metadata": {},
   "outputs": [
    {
     "name": "stdout",
     "output_type": "stream",
     "text": [
      "5\n"
     ]
    }
   ],
   "source": [
    "reverse = \"\"\n",
    "lenght = len(word)\n",
    "while lenght > 0 :\n",
    "    reverse = reverse + word[lenght-1]\n",
    "    lenght = lenght-1\n",
    "print(reverse)"
   ]
  },
  {
   "cell_type": "code",
   "execution_count": 21,
   "id": "ab2631d9-b133-4f90-8578-3870f1336c89",
   "metadata": {},
   "outputs": [
    {
     "name": "stdin",
     "output_type": "stream",
     "text": [
      "enter your number 4\n"
     ]
    },
    {
     "name": "stdout",
     "output_type": "stream",
     "text": [
      "4 * 1 = 4\n",
      "4 * 2 = 8\n",
      "4 * 3 = 12\n",
      "4 * 4 = 16\n",
      "4 * 5 = 20\n",
      "4 * 6 = 24\n",
      "4 * 7 = 28\n",
      "4 * 8 = 32\n",
      "4 * 9 = 36\n",
      "4 * 10 = 40\n"
     ]
    }
   ],
   "source": [
    "n = int(input(\"enter your number\"))\n",
    "i = 1\n",
    "while i<=10:\n",
    "    result = n*i\n",
    "    print(n,\"*\",i,\"=\",result)\n",
    "    i = i +1"
   ]
  },
  {
   "cell_type": "code",
   "execution_count": 22,
   "id": "8074bcc1-250c-4075-b804-33d715041386",
   "metadata": {},
   "outputs": [
    {
     "name": "stdout",
     "output_type": "stream",
     "text": [
      "1\n",
      "2\n",
      "3\n",
      "4\n",
      "this will be executed once your while will complete it successfully\n"
     ]
    }
   ],
   "source": [
    "n=5\n",
    "i=1\n",
    "while i<n:\n",
    "    print(i)\n",
    "    i = i+1\n",
    "else :\n",
    "    print(\"this will be executed once your while will complete it successfully\")"
   ]
  },
  {
   "cell_type": "code",
   "execution_count": null,
   "id": "9ea704d2-2927-43b3-8c8f-7a3b4eb5655f",
   "metadata": {},
   "outputs": [],
   "source": []
  }
 ],
 "metadata": {
  "kernelspec": {
   "display_name": "Python 3 (ipykernel)",
   "language": "python",
   "name": "python3"
  },
  "language_info": {
   "codemirror_mode": {
    "name": "ipython",
    "version": 3
   },
   "file_extension": ".py",
   "mimetype": "text/x-python",
   "name": "python",
   "nbconvert_exporter": "python",
   "pygments_lexer": "ipython3",
   "version": "3.10.8"
  }
 },
 "nbformat": 4,
 "nbformat_minor": 5
}
